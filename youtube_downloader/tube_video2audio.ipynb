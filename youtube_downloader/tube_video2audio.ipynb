{
 "cells": [
  {
   "cell_type": "code",
   "execution_count": 1,
   "metadata": {},
   "outputs": [],
   "source": [
    "from pytube import YouTube\n",
    "from moviepy.editor import VideoFileClip\n",
    "import os\n",
    "# import tkinter as tk #2d graphics library\n",
    "# from tkinter import filedialog"
   ]
  },
  {
   "cell_type": "code",
   "execution_count": 7,
   "metadata": {},
   "outputs": [],
   "source": [
    "url = \"https://www.youtube.com/watch?v=HHgUgEUKNl8\"\n",
    "output_path = \"C:/Users/rajee/OneDrive/Documents/rtdatasci_github/Python/youtube_downloader/downloads\""
   ]
  },
  {
   "cell_type": "code",
   "execution_count": 17,
   "metadata": {},
   "outputs": [],
   "source": [
    "yt = YouTube(url)\n",
    "## this option did not work becaue we need video fps metadata in later step\n",
    "# ys = yt.streams.filter(only_audio=True).first() \n",
    "ys = yt.streams.filter(file_extension='mp4').first()\n",
    "ys.download(output_path)\n",
    "\n",
    "\n",
    "# Convert to MP3 using moviepy\n",
    "video_path = output_path + \"/\" + ys.title + \".mp4\"\n",
    "audio_path = output_path + \"/\" + ys.title + \".mp3\""
   ]
  },
  {
   "cell_type": "code",
   "execution_count": 16,
   "metadata": {},
   "outputs": [
    {
     "name": "stdout",
     "output_type": "stream",
     "text": [
      "MoviePy - Writing audio in C:/Users/rajee/OneDrive/Documents/rtdatasci_github/Python/youtube_downloader/downloads/Bhaans Ghari.mp3\n"
     ]
    },
    {
     "name": "stderr",
     "output_type": "stream",
     "text": [
      "                                                                     "
     ]
    },
    {
     "name": "stdout",
     "output_type": "stream",
     "text": [
      "MoviePy - Done.\n"
     ]
    },
    {
     "name": "stderr",
     "output_type": "stream",
     "text": [
      "\r"
     ]
    }
   ],
   "source": [
    "video = VideoFileClip(video_path)\n",
    "video.audio.write_audiofile(audio_path)\n",
    "\n",
    "# release/close all the resources used by the given video file clip\n",
    "video.close()"
   ]
  },
  {
   "cell_type": "code",
   "execution_count": null,
   "metadata": {},
   "outputs": [],
   "source": [
    "os.remove(video_path)"
   ]
  }
 ],
 "metadata": {
  "kernelspec": {
   "display_name": ".venv",
   "language": "python",
   "name": "python3"
  },
  "language_info": {
   "codemirror_mode": {
    "name": "ipython",
    "version": 3
   },
   "file_extension": ".py",
   "mimetype": "text/x-python",
   "name": "python",
   "nbconvert_exporter": "python",
   "pygments_lexer": "ipython3",
   "version": "3.11.4"
  }
 },
 "nbformat": 4,
 "nbformat_minor": 2
}
