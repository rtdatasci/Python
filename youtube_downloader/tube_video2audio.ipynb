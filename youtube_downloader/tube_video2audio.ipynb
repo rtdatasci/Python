{
 "cells": [
  {
   "cell_type": "code",
   "execution_count": 2,
   "metadata": {},
   "outputs": [],
   "source": [
    "from pytube import YouTube\n",
    "from moviepy.editor import VideoFileClip\n",
    "import os\n",
    "# import tkinter as tk #2d graphics library\n",
    "# from tkinter import filedialog"
   ]
  },
  {
   "cell_type": "code",
   "execution_count": 22,
   "metadata": {},
   "outputs": [],
   "source": [
    "url = \"https://www.youtube.com/watch?v=HHgUgEUKNl8\"\n",
    "output_path = \"C:/Users/rajee/OneDrive/Documents/rtdatasci_github/Python/youtube_downloader/downloads\""
   ]
  },
  {
   "cell_type": "code",
   "execution_count": 23,
   "metadata": {},
   "outputs": [],
   "source": [
    "yt = YouTube(url)\n",
    "ys = yt.streams.filter(only_audio=True).first()\n",
    "ys.download(output_path)\n",
    "\n",
    "# Convert to MP3 using moviepy\n",
    "video_path = output_path + \"/\" + ys.title + \".mp4\"\n",
    "audio_path = output_path + \"/\" + ys.title + \".mp3\""
   ]
  },
  {
   "cell_type": "code",
   "execution_count": null,
   "metadata": {},
   "outputs": [],
   "source": [
    "video = VideoFileClip(video_path)\n",
    "video.audio.write_audiofile(audio_path)\n",
    "\n",
    "# release/close all the resources used by the given video file clip\n",
    "video.close()"
   ]
  },
  {
   "cell_type": "code",
   "execution_count": null,
   "metadata": {},
   "outputs": [],
   "source": [
    "os.remove(video_path)"
   ]
  }
 ],
 "metadata": {
  "kernelspec": {
   "display_name": ".venv",
   "language": "python",
   "name": "python3"
  },
  "language_info": {
   "codemirror_mode": {
    "name": "ipython",
    "version": 3
   },
   "file_extension": ".py",
   "mimetype": "text/x-python",
   "name": "python",
   "nbconvert_exporter": "python",
   "pygments_lexer": "ipython3",
   "version": "3.11.4"
  }
 },
 "nbformat": 4,
 "nbformat_minor": 2
}
